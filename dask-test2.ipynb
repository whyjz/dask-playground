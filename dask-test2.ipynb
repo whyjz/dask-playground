{
 "cells": [
  {
   "cell_type": "markdown",
   "id": "c2fd25e4-095e-4195-93c4-faac352a995e",
   "metadata": {},
   "source": [
    "## Firstly we set up 8 dask workers"
   ]
  },
  {
   "cell_type": "code",
   "execution_count": 1,
   "id": "9888f46e-413e-4813-9473-0f1515ffd74e",
   "metadata": {},
   "outputs": [],
   "source": [
    "import numpy as np\n",
    "import dask\n",
    "from dask.distributed import Client, LocalCluster\n",
    "import dask.bag as db"
   ]
  },
  {
   "cell_type": "code",
   "execution_count": 2,
   "id": "fdd8ca0c-ccbc-4590-b18e-480d8daae8e9",
   "metadata": {},
   "outputs": [],
   "source": [
    "cluster = LocalCluster(n_workers=8)\n",
    "# explicitly connect to the cluster we just created\n",
    "client = Client(cluster)"
   ]
  },
  {
   "cell_type": "code",
   "execution_count": 3,
   "id": "0ccbdcc2-542d-4532-81bd-24290217493d",
   "metadata": {},
   "outputs": [
    {
     "data": {
      "text/html": [
       "<table style=\"border: 2px solid white;\">\n",
       "<tr>\n",
       "<td style=\"vertical-align: top; border: 0px solid white\">\n",
       "<h3 style=\"text-align: left;\">Client</h3>\n",
       "<ul style=\"text-align: left; list-style: none; margin: 0; padding: 0;\">\n",
       "  <li><b>Scheduler: </b>tcp://127.0.0.1:34929</li>\n",
       "  <li><b>Dashboard: </b><a href='http://127.0.0.1:8787/status' target='_blank'>http://127.0.0.1:8787/status</a></li>\n",
       "</ul>\n",
       "</td>\n",
       "<td style=\"vertical-align: top; border: 0px solid white\">\n",
       "<h3 style=\"text-align: left;\">Cluster</h3>\n",
       "<ul style=\"text-align: left; list-style:none; margin: 0; padding: 0;\">\n",
       "  <li><b>Workers: </b>8</li>\n",
       "  <li><b>Cores: </b>16</li>\n",
       "  <li><b>Memory: </b>62.03 GiB</li>\n",
       "</ul>\n",
       "</td>\n",
       "</tr>\n",
       "</table>"
      ],
      "text/plain": [
       "<Client: 'tcp://127.0.0.1:34929' processes=8 threads=16, memory=62.03 GiB>"
      ]
     },
     "execution_count": 3,
     "metadata": {},
     "output_type": "execute_result"
    }
   ],
   "source": [
    "client"
   ]
  },
  {
   "cell_type": "markdown",
   "id": "882cad51-4856-44e6-95fe-cb7ece35fb8c",
   "metadata": {},
   "source": [
    "## And we define a function\n",
    "\n",
    "$$\n",
    "g(x) = \\sqrt{|x|} ^{\\ln |x|}\n",
    "$$\n",
    "\n",
    "This is a test function for each pixel. In the real case we use an optimization workflow for each pixel."
   ]
  },
  {
   "cell_type": "code",
   "execution_count": 4,
   "id": "2b70a01f-06d2-4c92-b0dc-61b59c6695ab",
   "metadata": {},
   "outputs": [
    {
     "data": {
      "text/plain": [
       "5.0"
      ]
     },
     "execution_count": 4,
     "metadata": {},
     "output_type": "execute_result"
    }
   ],
   "source": [
    "def g(x):\n",
    "    \n",
    "    p_list = np.linspace(-5, 5, 10000)\n",
    "    results_collection = np.zeros_like(p_list)\n",
    "    for i, p in enumerate(p_list):\n",
    "        results_collection[i] = np.sqrt(np.abs(x)) ** np.log(np.abs(x - p))\n",
    "    ideal_p_idx = np.argmin(results_collection)\n",
    "    return p_list[ideal_p_idx]\n",
    "\n",
    "g(-0.1111)"
   ]
  },
  {
   "cell_type": "markdown",
   "id": "0c5f9682-2922-410a-94ff-450dd22cff22",
   "metadata": {},
   "source": [
    "## ...and a large array\n",
    "\n",
    "with 2 million pixels. Pixel values are normally distributed."
   ]
  },
  {
   "cell_type": "code",
   "execution_count": 5,
   "id": "e3c4e64d-dc5f-4e61-b998-4b32e6646ad5",
   "metadata": {},
   "outputs": [],
   "source": [
    "array_size = 100\n",
    "test_array = np.random.randn(array_size)"
   ]
  },
  {
   "cell_type": "markdown",
   "id": "8181ea0f-24aa-436f-9cb3-76ac16e5a84c",
   "metadata": {},
   "source": [
    "Now we are going to apply $g(x)$ to each pixel in the test array.\n",
    "\n",
    "## Serial"
   ]
  },
  {
   "cell_type": "code",
   "execution_count": 6,
   "id": "5edecb29-5ea6-4155-800b-5ed88d00bc50",
   "metadata": {},
   "outputs": [
    {
     "name": "stdout",
     "output_type": "stream",
     "text": [
      "CPU times: user 5.11 s, sys: 9.49 ms, total: 5.12 s\n",
      "Wall time: 5.05 s\n"
     ]
    }
   ],
   "source": [
    "%%time\n",
    "\n",
    "results_serial = np.zeros((array_size, 1))\n",
    "for i in range(len(test_array)):\n",
    "    results_serial[i] = g(test_array[i])"
   ]
  },
  {
   "cell_type": "code",
   "execution_count": 13,
   "id": "a4d776e3-6e1a-41f6-8b9f-1bb2d9be5b03",
   "metadata": {},
   "outputs": [
    {
     "data": {
      "text/plain": [
       "array([ 1.48964896,  1.40264026,  5.        ,  2.05270527, -1.48164816,\n",
       "       -1.46464646, -5.        , -5.        ,  1.30063006])"
      ]
     },
     "execution_count": 13,
     "metadata": {},
     "output_type": "execute_result"
    }
   ],
   "source": [
    "results_serial[[0, 1, 2, 3, 10, -10, -3, -2, -1]].flatten()"
   ]
  },
  {
   "cell_type": "markdown",
   "id": "7d0ae2d4-8225-4a7d-a6ec-72093d49712b",
   "metadata": {},
   "source": [
    "## Parallel\n",
    "\n",
    "Using `dask.bag`"
   ]
  },
  {
   "cell_type": "code",
   "execution_count": 10,
   "id": "9466e022-1c6a-41f6-bd40-26c60a6989af",
   "metadata": {},
   "outputs": [
    {
     "data": {
      "image/png": "[encoded data removed]",
      "text/plain": [
       "<IPython.core.display.Image object>"
      ]
     },
     "execution_count": 10,
     "metadata": {},
     "output_type": "execute_result"
    }
   ],
   "source": [
    "b = db.from_sequence(test_array, npartitions=16)\n",
    "b = b.map(g)\n",
    "b.visualize()"
   ]
  },
  {
   "cell_type": "code",
   "execution_count": 11,
   "id": "fc4f0255-e8b8-49d0-91a9-2caf33a4c14e",
   "metadata": {},
   "outputs": [
    {
     "name": "stdout",
     "output_type": "stream",
     "text": [
      "CPU times: user 143 ms, sys: 11.7 ms, total: 155 ms\n",
      "Wall time: 929 ms\n"
     ]
    }
   ],
   "source": [
    "%%time\n",
    "results_parallel = b.compute()"
   ]
  },
  {
   "cell_type": "code",
   "execution_count": 12,
   "id": "27ee0fbf-be72-4a11-8a8c-01f8f4de8639",
   "metadata": {},
   "outputs": [
    {
     "data": {
      "text/plain": [
       "array([ 1.48964896,  1.40264026,  5.        ,  2.05270527, -1.48164816,\n",
       "       -1.46464646, -5.        , -5.        ,  1.30063006])"
      ]
     },
     "execution_count": 12,
     "metadata": {},
     "output_type": "execute_result"
    }
   ],
   "source": [
    "results_parallel = np.array(results_parallel)\n",
    "results_parallel[[0, 1, 2, 3, 10, -10, -3, -2, -1]]"
   ]
  },
  {
   "cell_type": "markdown",
   "id": "4b5c5030-f7e3-4f93-a30d-24525df33d87",
   "metadata": {},
   "source": [
    "- Serial: **~11 s**\n",
    "- Parallel (8 workers): **~1.5 min**\n",
    "\n",
    "Why?"
   ]
  }
 ],
 "metadata": {
  "kernelspec": {
   "display_name": "Python [conda env:.conda-jme]",
   "language": "python",
   "name": "conda-env-.conda-jme-py"
  },
  "language_info": {
   "codemirror_mode": {
    "name": "ipython",
    "version": 3
   },
   "file_extension": ".py",
   "mimetype": "text/x-python",
   "name": "python",
   "nbconvert_exporter": "python",
   "pygments_lexer": "ipython3",
   "version": "3.8.10"
  }
 },
 "nbformat": 4,
 "nbformat_minor": 5
}
