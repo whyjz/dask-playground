{
 "cells": [
  {
   "cell_type": "markdown",
   "id": "c2fd25e4-095e-4195-93c4-faac352a995e",
   "metadata": {},
   "source": [
    "## Firstly we set up 8 dask workers"
   ]
  },
  {
   "cell_type": "code",
   "execution_count": 1,
   "id": "9888f46e-413e-4813-9473-0f1515ffd74e",
   "metadata": {},
   "outputs": [],
   "source": [
    "import numpy as np\n",
    "import dask\n",
    "from dask.distributed import Client, LocalCluster\n",
    "import dask.bag as db"
   ]
  },
  {
   "cell_type": "code",
   "execution_count": 2,
   "id": "fdd8ca0c-ccbc-4590-b18e-480d8daae8e9",
   "metadata": {},
   "outputs": [],
   "source": [
    "cluster = LocalCluster(n_workers=8)\n",
    "# explicitly connect to the cluster we just created\n",
    "client = Client(cluster)"
   ]
  },
  {
   "cell_type": "code",
   "execution_count": 3,
   "id": "0ccbdcc2-542d-4532-81bd-24290217493d",
   "metadata": {},
   "outputs": [
    {
     "data": {
      "text/html": [
       "<table style=\"border: 2px solid white;\">\n",
       "<tr>\n",
       "<td style=\"vertical-align: top; border: 0px solid white\">\n",
       "<h3 style=\"text-align: left;\">Client</h3>\n",
       "<ul style=\"text-align: left; list-style: none; margin: 0; padding: 0;\">\n",
       "  <li><b>Scheduler: </b>tcp://127.0.0.1:41209</li>\n",
       "  <li><b>Dashboard: </b><a href='http://127.0.0.1:8787/status' target='_blank'>http://127.0.0.1:8787/status</a></li>\n",
       "</ul>\n",
       "</td>\n",
       "<td style=\"vertical-align: top; border: 0px solid white\">\n",
       "<h3 style=\"text-align: left;\">Cluster</h3>\n",
       "<ul style=\"text-align: left; list-style:none; margin: 0; padding: 0;\">\n",
       "  <li><b>Workers: </b>8</li>\n",
       "  <li><b>Cores: </b>16</li>\n",
       "  <li><b>Memory: </b>61.38 GiB</li>\n",
       "</ul>\n",
       "</td>\n",
       "</tr>\n",
       "</table>"
      ],
      "text/plain": [
       "<Client: 'tcp://127.0.0.1:41209' processes=8 threads=16, memory=61.38 GiB>"
      ]
     },
     "execution_count": 3,
     "metadata": {},
     "output_type": "execute_result"
    }
   ],
   "source": [
    "client"
   ]
  },
  {
   "cell_type": "markdown",
   "id": "882cad51-4856-44e6-95fe-cb7ece35fb8c",
   "metadata": {},
   "source": [
    "## And we define a function\n",
    "\n",
    "$$\n",
    "g(x) = \\sqrt{|x|} ^{\\ln |x|}\n",
    "$$\n",
    "\n",
    "This is a test function for each pixel. In the real case we use an optimization workflow for each pixel."
   ]
  },
  {
   "cell_type": "code",
   "execution_count": 14,
   "id": "2b70a01f-06d2-4c92-b0dc-61b59c6695ab",
   "metadata": {},
   "outputs": [
    {
     "data": {
      "text/plain": [
       "1.8284607275312097"
      ]
     },
     "execution_count": 14,
     "metadata": {},
     "output_type": "execute_result"
    }
   ],
   "source": [
    "def g(x):\n",
    "    return np.sqrt(np.abs(x)) ** np.log(np.abs(x))\n",
    "\n",
    "g(3)"
   ]
  },
  {
   "cell_type": "markdown",
   "id": "0c5f9682-2922-410a-94ff-450dd22cff22",
   "metadata": {},
   "source": [
    "## ...and a large array\n",
    "\n",
    "with 2 million pixels. Pixel values are normally distributed."
   ]
  },
  {
   "cell_type": "code",
   "execution_count": 9,
   "id": "e3c4e64d-dc5f-4e61-b998-4b32e6646ad5",
   "metadata": {},
   "outputs": [],
   "source": [
    "test_array = np.random.randn(2000000)"
   ]
  },
  {
   "cell_type": "markdown",
   "id": "8181ea0f-24aa-436f-9cb3-76ac16e5a84c",
   "metadata": {},
   "source": [
    "Now we are going to apply $g(x)$ to each pixel in the test array.\n",
    "\n",
    "## Serial"
   ]
  },
  {
   "cell_type": "code",
   "execution_count": 15,
   "id": "5edecb29-5ea6-4155-800b-5ed88d00bc50",
   "metadata": {},
   "outputs": [
    {
     "name": "stdout",
     "output_type": "stream",
     "text": [
      "CPU times: user 11.1 s, sys: 0 ns, total: 11.1 s\n",
      "Wall time: 11 s\n"
     ]
    }
   ],
   "source": [
    "%%time\n",
    "\n",
    "results_serial = np.zeros((2000000, 1))\n",
    "for i in range(len(test_array)):\n",
    "    results_serial[i] = g(test_array[i])"
   ]
  },
  {
   "cell_type": "code",
   "execution_count": 16,
   "id": "a4d776e3-6e1a-41f6-8b9f-1bb2d9be5b03",
   "metadata": {},
   "outputs": [
    {
     "data": {
      "text/plain": [
       "array([ 1.04644807,  1.0181662 ,  3.22965013,  1.10185788,  1.24392584,\n",
       "        1.06371915, 14.13493006,  1.0373989 , 31.58783543])"
      ]
     },
     "execution_count": 16,
     "metadata": {},
     "output_type": "execute_result"
    }
   ],
   "source": [
    "results_serial[[0, 1, 2, 3, 10, -10, -3, -2, -1]].flatten()"
   ]
  },
  {
   "cell_type": "markdown",
   "id": "7d0ae2d4-8225-4a7d-a6ec-72093d49712b",
   "metadata": {},
   "source": [
    "## Parallel\n",
    "\n",
    "Using `dask.bag`"
   ]
  },
  {
   "cell_type": "code",
   "execution_count": 18,
   "id": "9466e022-1c6a-41f6-bd40-26c60a6989af",
   "metadata": {},
   "outputs": [
    {
     "data": {
      "image/png": "[encoded data removed]",
      "text/plain": [
       "<IPython.core.display.Image object>"
      ]
     },
     "execution_count": 18,
     "metadata": {},
     "output_type": "execute_result"
    }
   ],
   "source": [
    "b = db.from_sequence(test_array, npartitions=24)\n",
    "b = b.map(g)\n",
    "b.visualize()"
   ]
  },
  {
   "cell_type": "code",
   "execution_count": 19,
   "id": "fc4f0255-e8b8-49d0-91a9-2caf33a4c14e",
   "metadata": {},
   "outputs": [
    {
     "name": "stderr",
     "output_type": "stream",
     "text": [
      "distributed.utils_perf - WARNING - full garbage collections took 16% CPU time recently (threshold: 10%)\n",
      "distributed.utils_perf - WARNING - full garbage collections took 21% CPU time recently (threshold: 10%)\n",
      "distributed.utils_perf - WARNING - full garbage collections took 22% CPU time recently (threshold: 10%)\n",
      "distributed.utils_perf - WARNING - full garbage collections took 20% CPU time recently (threshold: 10%)\n",
      "distributed.utils_perf - WARNING - full garbage collections took 21% CPU time recently (threshold: 10%)\n",
      "distributed.utils_perf - WARNING - full garbage collections took 22% CPU time recently (threshold: 10%)\n",
      "distributed.utils_perf - WARNING - full garbage collections took 21% CPU time recently (threshold: 10%)\n",
      "distributed.utils_perf - WARNING - full garbage collections took 22% CPU time recently (threshold: 10%)\n"
     ]
    },
    {
     "name": "stdout",
     "output_type": "stream",
     "text": [
      "CPU times: user 1min 16s, sys: 3.39 s, total: 1min 19s\n",
      "Wall time: 1min 27s\n"
     ]
    }
   ],
   "source": [
    "%%time\n",
    "results_parallel = b.compute()"
   ]
  },
  {
   "cell_type": "code",
   "execution_count": 20,
   "id": "27ee0fbf-be72-4a11-8a8c-01f8f4de8639",
   "metadata": {},
   "outputs": [
    {
     "data": {
      "text/plain": [
       "array([ 1.04644807,  1.0181662 ,  3.22965013,  1.10185788,  1.24392584,\n",
       "        1.06371915, 14.13493006,  1.0373989 , 31.58783543])"
      ]
     },
     "execution_count": 20,
     "metadata": {},
     "output_type": "execute_result"
    }
   ],
   "source": [
    "results_parallel = np.array(results_parallel)\n",
    "results_parallel[[0, 1, 2, 3, 10, -10, -3, -2, -1]]"
   ]
  },
  {
   "cell_type": "markdown",
   "id": "4b5c5030-f7e3-4f93-a30d-24525df33d87",
   "metadata": {},
   "source": [
    "- Serial: **~11 s**\n",
    "- Parallel (8 workers): **~1.5 min**\n",
    "\n",
    "Why?"
   ]
  }
 ],
 "metadata": {
  "kernelspec": {
   "display_name": "Python [conda env:.conda-jme]",
   "language": "python",
   "name": "conda-env-.conda-jme-py"
  },
  "language_info": {
   "codemirror_mode": {
    "name": "ipython",
    "version": 3
   },
   "file_extension": ".py",
   "mimetype": "text/x-python",
   "name": "python",
   "nbconvert_exporter": "python",
   "pygments_lexer": "ipython3",
   "version": "3.8.10"
  }
 },
 "nbformat": 4,
 "nbformat_minor": 5
}
